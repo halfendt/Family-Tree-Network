{
 "cells": [
  {
   "cell_type": "code",
   "execution_count": 1,
   "metadata": {},
   "outputs": [],
   "source": [
    "import numpy as np\n",
    "import pandas as pd\n",
    "import matplotlib.pyplot as plt\n",
    "from ged4py import GedcomReader\n",
    "import igraph as ig\n",
    "import plotly.offline as py\n",
    "import plotly.graph_objs as go"
   ]
  },
  {
   "cell_type": "code",
   "execution_count": 2,
   "metadata": {},
   "outputs": [],
   "source": [
    "file_path = 'Family_Tree.ged'\n",
    "parser = GedcomReader(file_path, encoding=\"utf-8\")"
   ]
  },
  {
   "cell_type": "code",
   "execution_count": 3,
   "metadata": {},
   "outputs": [],
   "source": [
    "indi_list = []\n",
    "for i, indi in enumerate(parser.records0(\"INDI\")):\n",
    "    indi_dict = {}\n",
    "    indi_dict['id'] = int(indi.xref_id.split('@')[1][1:])-1\n",
    "    #indi_dict['name'] = indi.name.format()\n",
    "    indi_dict['gender'] = indi.sub_tag_value(\"SEX\")\n",
    "    indi_dict['birth_date'] = indi.sub_tag_value(\"BIRT/DATE\")\n",
    "    indi_dict['birth_place'] = indi.sub_tag_value(\"BIRT/PLAC\")\n",
    "    indi_dict['death_date'] = indi.sub_tag_value(\"DEAT/DATE\")\n",
    "    indi_dict['death_place'] = indi.sub_tag_value(\"DEAT/PLAC\")\n",
    "    indi_list.append(indi_dict)\n",
    "    \n",
    "df_indi = pd.DataFrame(indi_list).set_index('id').sort_index().fillna('Unknown')\n",
    "df_indi.to_csv('family_tree_network.csv', index=False)"
   ]
  },
  {
   "cell_type": "code",
   "execution_count": 4,
   "metadata": {},
   "outputs": [],
   "source": [
    "family_list = []\n",
    "for i, fam in enumerate(parser.records0(\"FAM\")):\n",
    "    husband, wife = fam.sub_tag(\"HUSB\"), fam.sub_tag(\"WIFE\")\n",
    "    if husband and wife: \n",
    "        family_list.append((int(husband.xref_id.split('@')[1][1:])-1, int(wife.xref_id.split('@')[1][1:])-1))\n",
    "        family_list.append((int(wife.xref_id.split('@')[1][1:])-1, int(husband.xref_id.split('@')[1][1:])-1))\n",
    "    children = fam.sub_tags(\"CHIL\")\n",
    "    for child in children:\n",
    "        if husband:\n",
    "            family_list.append((int(husband.xref_id.split('@')[1][1:])-1, int(child.xref_id.split('@')[1][1:])-1))\n",
    "        if wife:\n",
    "            family_list.append((int(wife.xref_id.split('@')[1][1:])-1, int(child.xref_id.split('@')[1][1:])-1))"
   ]
  },
  {
   "cell_type": "code",
   "execution_count": 5,
   "metadata": {},
   "outputs": [
    {
     "name": "stdout",
     "output_type": "stream",
     "text": [
      "IGRAPH U--- 210 420 -- \n"
     ]
    }
   ],
   "source": [
    "g = ig.Graph(directed=False)\n",
    "g.add_vertices(df_indi.index.max()+1)\n",
    "g.add_edges(family_list)\n",
    "g.delete_vertices(list(set(range(df_indi.index.max()))-set(df_indi.index)))\n",
    "ig.summary(g)"
   ]
  },
  {
   "cell_type": "code",
   "execution_count": 6,
   "metadata": {},
   "outputs": [],
   "source": [
    "threeD = True\n",
    "edge_list = g.get_edgelist()\n",
    "\n",
    "if threeD:\n",
    "    layout = g.layout('fr3d')\n",
    "    Xn3d = [layout[k][0] for k in range(len(indi_list))]\n",
    "    Yn3d = [layout[k][1] for k in range(len(indi_list))]\n",
    "    Zn3d = [layout[k][2] for k in range(len(indi_list))]\n",
    "    \n",
    "    Xe3d = []\n",
    "    Ye3d = []\n",
    "    Ze3d = []\n",
    "    for e in edge_list:\n",
    "        Xe3d.extend([layout[e[0]][0], layout[e[1]][0], None])\n",
    "        Ye3d.extend([layout[e[0]][1], layout[e[1]][1], None])\n",
    "        Ze3d.extend([layout[e[0]][2], layout[e[1]][2], None])\n",
    "    \n",
    "    trace1 = go.Scatter3d(x=Xe3d, y=Ye3d, z=Ze3d, mode='lines', line=dict(color='rgb(0,0,0)', width=1), hoverinfo='none')\n",
    "    trace2 = go.Scatter3d(x=Xn3d, y=Yn3d, z=Zn3d, mode='markers', name='people',\n",
    "                          marker=dict(symbol='circle', size=6, colorscale='plasma', \n",
    "                                      color=np.sqrt(np.array(Xn3d)**2 + np.array(Yn3d)**2 + np.array(Zn3d)**2),\n",
    "                                      line=dict(color='rgb(50,50,50)', width=0.5)),\n",
    "                          text=df_indi.index.astype(str) + ' ' + df_indi['birth_date'].astype(str) + '-' + df_indi['death_date'].astype(str),\n",
    "                          hoverinfo='text')\n",
    "else:\n",
    "    layout = g.layout('fr')\n",
    "    Xn = [layout[k][0] for k in range(len(indi_list))]\n",
    "    Yn = [layout[k][1] for k in range(len(indi_list))]\n",
    "    \n",
    "    Xe = []\n",
    "    Ye = []\n",
    "    for e in edge_list:\n",
    "        Xe.extend([layout[e[0]][0], layout[e[1]][0], None])\n",
    "        Ye.extend([layout[e[0]][1], layout[e[1]][1], None])\n",
    "    \n",
    "    trace1 = go.Scatter(x=Xe, y=Ye, mode='lines', line=dict(color='rgb(0,0,0)', width=1), hoverinfo='none')\n",
    "    trace2 = go.Scatter(x=Xn, y=Yn, mode='markers', name='people',\n",
    "                        marker=dict(symbol='circle', size=6,\n",
    "                                    colorscale='plasma', color=np.sqrt(np.array(Xn)**2 + np.array(Yn)**2),\n",
    "                                    line=dict(color='rgb(50,50,50)', width=0.5)),\n",
    "                        text=df_indi.index.astype(str) + ' ' + df_indi['birth_date'].astype(str) + '-' + df_indi['death_date'].astype(str),\n",
    "                        hoverinfo='text')\n",
    "\n",
    "axis = dict(showbackground=False, showline=False, zeroline=False, showgrid=False, showticklabels=False, title='')\n",
    "pylayout = go.Layout(title=\"Family Tree Network\", width=1550, height=750, showlegend=False,\n",
    "                     scene=dict(xaxis=dict(axis), yaxis=dict(axis), zaxis=dict(axis)),\n",
    "                     margin=dict(t=30), hovermode='closest',\n",
    "                     annotations=[dict(showarrow=False, text='', xref='paper', yref='paper',\n",
    "                                       x=0, y=0.1, xanchor='left', yanchor='bottom', font=dict(size=14))])"
   ]
  },
  {
   "cell_type": "code",
   "execution_count": 7,
   "metadata": {},
   "outputs": [
    {
     "data": {
      "text/plain": [
       "'family_tree_network.html'"
      ]
     },
     "execution_count": 7,
     "metadata": {},
     "output_type": "execute_result"
    }
   ],
   "source": [
    "data = [trace1, trace2]\n",
    "fig = go.Figure(data=data, layout=pylayout)\n",
    "\n",
    "py.plot(fig, filename='family_tree_network.html')"
   ]
  },
  {
   "cell_type": "code",
   "execution_count": null,
   "metadata": {},
   "outputs": [],
   "source": []
  }
 ],
 "metadata": {
  "kernelspec": {
   "display_name": "Python 3",
   "language": "python",
   "name": "python3"
  },
  "language_info": {
   "codemirror_mode": {
    "name": "ipython",
    "version": 3
   },
   "file_extension": ".py",
   "mimetype": "text/x-python",
   "name": "python",
   "nbconvert_exporter": "python",
   "pygments_lexer": "ipython3",
   "version": "3.6.9"
  }
 },
 "nbformat": 4,
 "nbformat_minor": 2
}
